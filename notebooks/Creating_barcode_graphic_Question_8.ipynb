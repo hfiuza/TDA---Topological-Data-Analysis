{
 "cells": [
  {
   "cell_type": "markdown",
   "metadata": {},
   "source": [
    "## Plotting barcodes\n",
    "The goal of this notebook is to plot barcodes (receving them as inputs). Our goal was also to be able to visualize our results and also compare the barcodes of the classical filtrations with the given filtrations (A, B, C, D) in order to see if they gave us any insights about the given filtrations. Although they did indeed help to visualize our barcodes, they did not give us any insights about the given filtrations (Question 8). "
   ]
  },
  {
   "cell_type": "markdown",
   "metadata": {},
   "source": [
    "Creating simplex class and reading function"
   ]
  },
  {
   "cell_type": "code",
   "execution_count": 44,
   "metadata": {
    "collapsed": false
   },
   "outputs": [],
   "source": [
    "import matplotlib.pyplot as plt\n",
    "import numpy as np\n",
    "%matplotlib inline\n",
    "\n",
    "class simplex:\n",
    "    def __init__(self, dim, val, vert):\n",
    "        self.dim = dim\n",
    "        self.val = val\n",
    "        self.vert = vert\n",
    "        \n",
    "def input_barcode(filepath):\n",
    "    barcode = []\n",
    "    with open(filepath, \"r\") as ins:\n",
    "        for line in ins:\n",
    "            barcode.append(line)\n",
    "    return barcode"
   ]
  },
  {
   "cell_type": "markdown",
   "metadata": {},
   "source": [
    "Reading barcode"
   ]
  },
  {
   "cell_type": "code",
   "execution_count": 51,
   "metadata": {
    "collapsed": true
   },
   "outputs": [],
   "source": [
    "barcode = input_barcode('Barcodes/first_filtration.out')"
   ]
  },
  {
   "cell_type": "markdown",
   "metadata": {},
   "source": [
    "Creating auxiliary variables for plotting (regarding the dimensions)"
   ]
  },
  {
   "cell_type": "code",
   "execution_count": 52,
   "metadata": {
    "collapsed": false
   },
   "outputs": [],
   "source": [
    "verts = []\n",
    "for item in barcode:\n",
    "    aux = item.split()\n",
    "    vert = float(aux[2])\n",
    "    if vert != float('inf'):\n",
    "        verts.append(vert)\n",
    "\n",
    "for item in barcode:\n",
    "    aux = item.split()\n",
    "    vert = float(aux[1])\n",
    "    verts.append(vert)\n",
    "\n",
    "    \n",
    "maxvert = max(verts)\n",
    "minvert = min(verts)"
   ]
  },
  {
   "cell_type": "markdown",
   "metadata": {},
   "source": [
    "Creating new auxiliary variables for plotting (regarding the dimensions)"
   ]
  },
  {
   "cell_type": "code",
   "execution_count": 53,
   "metadata": {
    "collapsed": false
   },
   "outputs": [],
   "source": [
    "dimension = []\n",
    "for item in barcode:\n",
    "    aux = item.split()\n",
    "    dim = float(aux[0])\n",
    "    dimension.append(dim)\n",
    "    \n",
    "alldimensions = list(set(dimension))\n",
    "\n",
    "dimqty = []\n",
    "\n",
    "for dim in alldimensions:\n",
    "    dimqty.append(dimension.count(dim))\n",
    "\n",
    "totaldim = len(alldimensions)\n",
    "\n",
    "yforgraphic = []\n",
    "\n",
    "for dim in alldimensions:\n",
    "    auxnum = totaldim - dim\n",
    "    yforgraphic.append(np.linspace(2*auxnum, 2*(auxnum)-1, num = dimqty[int(dim)]))\n",
    "    \n",
    "iforplot = []\n",
    "for qty in dimqty:\n",
    "    iforplot += range(qty)"
   ]
  },
  {
   "cell_type": "markdown",
   "metadata": {},
   "source": [
    "Plotting barcode"
   ]
  },
  {
   "cell_type": "code",
   "execution_count": 54,
   "metadata": {
    "collapsed": false
   },
   "outputs": [
    {
     "data": {
      "image/png": "[encoded data removed]",
      "text/plain": [
       "<matplotlib.figure.Figure at 0x907abe0>"
      ]
     },
     "metadata": {},
     "output_type": "display_data"
    }
   ],
   "source": [
    "M = len(barcode)\n",
    "\n",
    "fig = plt.figure(figsize=(12, 6))\n",
    "\n",
    "t = np.linspace(0.0, 5.0, num=M)\n",
    "\n",
    "hax = fig.add_subplot(122)\n",
    "\n",
    "#####horizontal line\n",
    "for i,item in enumerate(barcode):\n",
    "    auxlist = item.split()\n",
    "    dim = float(auxlist[0])\n",
    "    beg = float(auxlist[1])\n",
    "    end = float(auxlist[2])\n",
    "    if end == float('inf'):\n",
    "        hax.hlines(yforgraphic[int(dim)][iforplot[i]], beg, maxvert, lw=2)\n",
    "        hax.plot(maxvert, yforgraphic[int(dim)][iforplot[i]], '>')\n",
    "    else:\n",
    "        hax.hlines(yforgraphic[int(dim)][iforplot[i]], beg, end, lw=2)\n",
    "        \n",
    "for dim in alldimensions:\n",
    "    auxnum = totaldim - dim\n",
    "    hax.hlines(2*(auxnum)-1.5, minvert-0.1,maxvert+0.1, colors = 'b',lw=2)\n",
    "    plt.text(minvert-0.3,2*(auxnum)-1.5,'H'+str(int(dim)),rotation=90)\n",
    "\n",
    "hax.set_title('Barcode')\n",
    "axes = plt.gca()\n",
    "axes.set_xlim([minvert-0.1,maxvert+0.1])\n",
    "axes.set_ylim([-0.2,2*totaldim+0.2])\n",
    "\n",
    "plt.show()"
   ]
  },
  {
   "cell_type": "markdown",
   "metadata": {},
   "source": [
    "Although we plotted all the given filtrations, unfortunately we didn't have any insights about the barcodes in question 8 neither with or without these plots."
   ]
  }
 ],
 "metadata": {
  "anaconda-cloud": {},
  "kernelspec": {
   "display_name": "Python [default]",
   "language": "python",
   "name": "python2"
  },
  "language_info": {
   "codemirror_mode": {
    "name": "ipython",
    "version": 2
   },
   "file_extension": ".py",
   "mimetype": "text/x-python",
   "name": "python",
   "nbconvert_exporter": "python",
   "pygments_lexer": "ipython2",
   "version": "2.7.12"
  }
 },
 "nbformat": 4,
 "nbformat_minor": 1
}
