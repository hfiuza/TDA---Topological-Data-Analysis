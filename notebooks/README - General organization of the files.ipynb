{
 "cells": [
  {
   "cell_type": "markdown",
   "metadata": {},
   "source": [
    "## General organization of the files"
   ]
  },
  {
   "cell_type": "markdown",
   "metadata": {},
   "source": [
    "Students:\n",
    "Álvaro Serra Gómez\n",
    "Gustavo Pereira de Castro\n",
    "Henrique Gasparini Fiuza do Nascimento"
   ]
  },
  {
   "cell_type": "markdown",
   "metadata": {},
   "source": [
    "In the notebook \"Boundary_reduction_and_barcode(sparse_matrix)_questions_1_to_4\", we implemented the algorithms to determine the boundary matrix, reduce it and then generate its barcode, as asked in questions 1, 2, 3, and 4.\n",
    "We also used this notebook to generate the barcodes of the filtrations we computed in question 5.\n",
    "Concerning this questions, there is another notebook \"Boundary_reduction_and_barcode(dense_matrix)_questions_1_to_4\" that implements the same algorithms,but less efficiently (using a dense matrix) and with less comments."
   ]
  },
  {
   "cell_type": "markdown",
   "metadata": {},
   "source": [
    "Questions 5 and 6 are answered in the notebook \"Experiements_classical_spaces_questions_5_and_6\". Although not all of the code for these questions is in this notebook, it explains in detail how the answers for these questions are placed inside our project."
   ]
  },
  {
   "cell_type": "markdown",
   "metadata": {},
   "source": [
    "Question 7 required more computing power, so we reimplemented our notebook \"Boundary_reduction_and_barcode(sparse_matrix)_questions_1_to_4\" using C++.\n",
    "The C++ code is in the path ../c++.\n",
    "The execution times can be found in the notebook \"Large_datasets_Question 7\""
   ]
  },
  {
   "cell_type": "markdown",
   "metadata": {},
   "source": [
    "Question 8 was studied in the notebook \"Creating_barcode_graphic_Question_8\""
   ]
  }
 ],
 "metadata": {
  "kernelspec": {
   "display_name": "Python 2",
   "language": "python",
   "name": "python2"
  },
  "language_info": {
   "codemirror_mode": {
    "name": "ipython",
    "version": 2
   },
   "file_extension": ".py",
   "mimetype": "text/x-python",
   "name": "python",
   "nbconvert_exporter": "python",
   "pygments_lexer": "ipython2",
   "version": "2.7.12"
  }
 },
 "nbformat": 4,
 "nbformat_minor": 0
}
