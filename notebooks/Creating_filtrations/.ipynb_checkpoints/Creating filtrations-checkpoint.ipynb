{
 "cells": [
  {
   "cell_type": "markdown",
   "metadata": {},
   "source": [
    "## Create filtrations\n",
    "for the following items: d-sphere and the d-ball (d <= 10), the Moebius strip, the torus, the Klein bottle and the projective plane"
   ]
  },
  {
   "cell_type": "markdown",
   "metadata": {},
   "source": [
    "Function for writing into txt"
   ]
  },
  {
   "cell_type": "code",
   "execution_count": 36,
   "metadata": {
    "collapsed": true
   },
   "outputs": [],
   "source": [
    "def output_filtration(filtrationlist,name):\n",
    "    filtrationtxt = open(name,\"w\")\n",
    "    for filtration in filtrationlist:\n",
    "        aux = filtration.vert\n",
    "        aux = str(aux).strip('[]')\n",
    "        aux = aux.replace(',','')\n",
    "        filtrationtxt.write(str(filtration.val)+' '+str(filtration.dim)+' '+aux)\n",
    "        filtrationtxt.write(\"\\n\")\n",
    "    return"
   ]
  },
  {
   "cell_type": "code",
   "execution_count": 37,
   "metadata": {
    "collapsed": true
   },
   "outputs": [],
   "source": [
    "import numpy as np\n",
    "\n",
    "class simplex:\n",
    "    def __init__(self, dim, val, vert):\n",
    "        self.dim = dim\n",
    "        self.val = val\n",
    "        self.vert = vert"
   ]
  },
  {
   "cell_type": "markdown",
   "metadata": {},
   "source": [
    "d-sphere"
   ]
  },
  {
   "cell_type": "code",
   "execution_count": 38,
   "metadata": {
    "collapsed": false
   },
   "outputs": [],
   "source": [
    "d = 5\n",
    "\n",
    "import itertools\n",
    "def findsubsets(S,m):\n",
    "    return set(itertools.combinations(S, m))\n",
    "\n",
    "simplices = []\n",
    "\n",
    "\n",
    "vertices = range(1,d+3)\n",
    "\n",
    "for i in range(d+1):\n",
    "    for s in findsubsets(vertices,i+1):\n",
    "        simplices.append(simplex(i, i+1, list(s)))\n",
    "        \n",
    "output_filtration(simplices,'filtrationdsphere.txt')"
   ]
  },
  {
   "cell_type": "markdown",
   "metadata": {},
   "source": [
    "d-ball"
   ]
  },
  {
   "cell_type": "code",
   "execution_count": 39,
   "metadata": {
    "collapsed": true
   },
   "outputs": [],
   "source": [
    "d = 5\n",
    "\n",
    "import itertools\n",
    "def findsubsets(S,m):\n",
    "    return set(itertools.combinations(S, m))\n",
    "\n",
    "simplices = []\n",
    "\n",
    "\n",
    "vertices = range(1,d+3)\n",
    "\n",
    "for i in range(d+2):\n",
    "    for s in findsubsets(vertices,i+1):\n",
    "        simplices.append(simplex(i, i+1, list(s)))\n",
    "        \n",
    "output_filtration(simplices,'filtrationdball.txt')"
   ]
  },
  {
   "cell_type": "markdown",
   "metadata": {},
   "source": [
    "Moebius strip"
   ]
  },
  {
   "cell_type": "code",
   "execution_count": 43,
   "metadata": {
    "collapsed": false
   },
   "outputs": [],
   "source": [
    "simplices = []\n",
    "\n",
    "vertices = range(1,7)\n",
    "\n",
    "for vertice in vertices:\n",
    "    simplices.append(simplex(0, 1, vertice))\n",
    "\n",
    "edges = [[1,2],[1,3],[2,3],[3,5],[4,5],[3,4],[5,6],[4,6],[2,4],[2,6],[1,6],[2,5]]\n",
    "\n",
    "for edge in edges:\n",
    "    simplices.append(simplex(1, 2, edge))\n",
    "    \n",
    "tris = [[1,2,3],[2,3,5],[3,4,5],[4,5,6],[2,4,6],[1,2,6]]\n",
    "\n",
    "for tri in tris:\n",
    "    simplices.append(simplex(2, 3, tri))\n",
    "    \n",
    "output_filtration(simplices,'filtrationmoebiusstrip.txt')"
   ]
  },
  {
   "cell_type": "markdown",
   "metadata": {},
   "source": [
    "Klein bottle"
   ]
  },
  {
   "cell_type": "code",
   "execution_count": 44,
   "metadata": {
    "collapsed": true
   },
   "outputs": [],
   "source": [
    "simplices = []\n",
    "\n",
    "vertices = range(1,10)\n",
    "\n",
    "for vertice in vertices:\n",
    "    simplices.append(simplex(0, 1, vertice))\n",
    "\n",
    "edges = [[1,2],[1,3],[1,4],[1,5],[1,6],[1,7],[1,8],[1,9],[2,3],[2,6],[2,7],[2,9],[3,7],[3,8],[3,9],[4,5],\n",
    "         [4,6],[4,7],[4,8],[4,9],[5,7],[5,9],[6,7],[6,8],[6,9],[7,8],[8,9]]\n",
    "\n",
    "for edge in edges:\n",
    "    simplices.append(simplex(1, 2, edge))\n",
    "    \n",
    "tris = [[1,2,6],[1,4,6],[4,6,7],[4,5,7],[1,5,7],[1,2,7],[2,3,9],[2,6,9],[6,8,9],[6,7,8],[3,7,8],[2,3,7],\n",
    "       [1,3,9],[1,5,9],[4,5,9],[4,8,9],[1,4,8],[1,3,8]]\n",
    "\n",
    "for tri in tris:\n",
    "    simplices.append(simplex(2, 3, tri))\n",
    "\n",
    "output_filtration(simplices,'filtrationkleinbottle.txt')"
   ]
  },
  {
   "cell_type": "markdown",
   "metadata": {},
   "source": [
    "Torus"
   ]
  },
  {
   "cell_type": "code",
   "execution_count": 46,
   "metadata": {
    "collapsed": true
   },
   "outputs": [],
   "source": [
    "simplices = []\n",
    "\n",
    "vertices = range(1,10)\n",
    "\n",
    "for vertice in vertices:\n",
    "    simplices.append(simplex(0, 1, vertice))\n",
    "\n",
    "edges = [[1,2],[1,3],[1,4],[1,5],[1,6],[1,7],[1,8],[1,9],[2,3],[2,6],[2,7],[2,9],[3,7],[3,8],[3,9],[4,5],\n",
    "         [4,6],[4,7],[4,9],[5,7],[5,8],[5,9],[6,7],[6,8],[6,9],[7,8],[8,9]]\n",
    "\n",
    "for edge in edges:\n",
    "    simplices.append(simplex(1, 2, edge))\n",
    "\n",
    "tris = [[1,2,6],[1,4,6],[4,6,7],[4,5,7],[1,5,7],[1,2,7],[2,3,9],[2,6,9],[6,8,9],[6,7,8],[3,7,8],[2,3,7],\n",
    "       [1,3,9],[1,4,9],[4,5,9],[5,8,9],[1,5,8],[1,3,8]]\n",
    "\n",
    "for tri in tris:\n",
    "    simplices.append(simplex(2, 3, tri))\n",
    "\n",
    "output_filtration(simplices,'filtrationtorus.txt')"
   ]
  },
  {
   "cell_type": "markdown",
   "metadata": {},
   "source": [
    "Projective plane"
   ]
  },
  {
   "cell_type": "code",
   "execution_count": null,
   "metadata": {
    "collapsed": true
   },
   "outputs": [],
   "source": [
    "simplices = []\n",
    "\n",
    "vertices = range(1,11)\n",
    "\n",
    "for vertice in vertices:\n",
    "    simplices.append(simplex(0, 1, vertice))\n",
    "\n",
    "edges = [[1,3],[1,5],[2,4],[2,6],[2,8],[2,10],[3,4],[3,5],[3,7],[3,9],[4,7],[4,8],[4,9],[4,10],[5,6],[5,7],\n",
    "         [5,9],[6,7],[6,8],[6,9],[6,10],[7,8],[7,10],[8,9],[8,10],[9,10]]\n",
    "\n",
    "for edge in edges:\n",
    "    simplices.append(simplex(1, 2, edge))\n",
    "    \n",
    "tris = [[1,3,5],[3,5,7],[5,6,7],[6,7,8],[2,6,8],[2,4,8],[3,4,7],[4,7,10],[7,8,10],[8,9,10],[4,8,9],[4,3,9],\n",
    "        [2,4,10],[2,6,10],[6,9,10],[5,6,9],[3,5,9],[1,3,5]]\n",
    "\n",
    "for tri in tris:\n",
    "    simplices.append(simplex(2, 3, tri))\n",
    "\n",
    "output_filtration(simplices,'filtrationprojplane.txt')"
   ]
  }
 ],
 "metadata": {
  "kernelspec": {
   "display_name": "Python 2",
   "language": "python",
   "name": "python2"
  },
  "language_info": {
   "codemirror_mode": {
    "name": "ipython",
    "version": 2
   },
   "file_extension": ".py",
   "mimetype": "text/x-python",
   "name": "python",
   "nbconvert_exporter": "python",
   "pygments_lexer": "ipython2",
   "version": "2.7.12"
  }
 },
 "nbformat": 4,
 "nbformat_minor": 1
}
