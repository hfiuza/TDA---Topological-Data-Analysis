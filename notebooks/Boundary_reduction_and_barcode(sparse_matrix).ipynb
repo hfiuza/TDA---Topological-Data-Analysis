{
 "cells": [
  {
   "cell_type": "markdown",
   "metadata": {},
   "source": [
    "## Boundary matrix, reduction, output barcode (using a sparse matrix) - Questions 1, 2, 3, and 4"
   ]
  },
  {
   "cell_type": "markdown",
   "metadata": {},
   "source": [
    "Creating simplex class and reading function"
   ]
  },
  {
   "cell_type": "code",
   "execution_count": 34,
   "metadata": {
    "collapsed": false
   },
   "outputs": [],
   "source": [
    "import numpy as np\n",
    "\n",
    "class simplex:\n",
    "    def __init__(self, line):\n",
    "        self.dim, self.val, self.vert = self.parse_line(line)\n",
    "    \n",
    "    def parse_line(self, line):\n",
    "        splited_line = line.split()\n",
    "        val = float(splited_line[0])\n",
    "        dim = int(splited_line[1])\n",
    "        vert = [int(x) for x in splited_line[2:]]\n",
    "        assert(len(vert)==dim+1)\n",
    "        return dim, val, vert\n",
    "\n",
    "def read_filtration(name):\n",
    "    simplices = []\n",
    "    with open(name, \"r\") as ins:\n",
    "        for line in ins:\n",
    "            simplices.append(simplex(line))\n",
    "    return simplices"
   ]
  },
  {
   "cell_type": "markdown",
   "metadata": {},
   "source": [
    "Reading the example filtration"
   ]
  },
  {
   "cell_type": "code",
   "execution_count": 35,
   "metadata": {
    "collapsed": false
   },
   "outputs": [],
   "source": [
    "simplices = read_filtration('Creating_filtrations/filtrationprojplane.txt')"
   ]
  },
  {
   "cell_type": "markdown",
   "metadata": {},
   "source": [
    "Grouping by time"
   ]
  },
  {
   "cell_type": "code",
   "execution_count": 36,
   "metadata": {
    "collapsed": true
   },
   "outputs": [],
   "source": [
    "simplices.sort(key=lambda x: x.val)"
   ]
  },
  {
   "cell_type": "markdown",
   "metadata": {},
   "source": [
    "Sorting the vertices"
   ]
  },
  {
   "cell_type": "code",
   "execution_count": 37,
   "metadata": {
    "collapsed": false
   },
   "outputs": [],
   "source": [
    "for s in simplices:\n",
    "    s.vert.sort()"
   ]
  },
  {
   "cell_type": "markdown",
   "metadata": {},
   "source": [
    "Creating dictionary for matrix creation"
   ]
  },
  {
   "cell_type": "code",
   "execution_count": 38,
   "metadata": {
    "collapsed": false
   },
   "outputs": [],
   "source": [
    "simplices_str =  [str(s.vert).strip('[]') for s in simplices]\n",
    "\n",
    "d = {}\n",
    "for i, s in enumerate(simplices_str):\n",
    "    d[s] = i"
   ]
  },
  {
   "cell_type": "markdown",
   "metadata": {},
   "source": [
    "Creating sparse matrix"
   ]
  },
  {
   "cell_type": "code",
   "execution_count": 39,
   "metadata": {
    "collapsed": false
   },
   "outputs": [],
   "source": [
    "M = len(simplices)\n",
    "\n",
    "sparse = [[] for i in range(M)]\n",
    "\n",
    "for i, s in enumerate(simplices):\n",
    "    if s.dim>0:\n",
    "        vs = list(s.vert)\n",
    "        for v in vs:\n",
    "            temp = list(vs)\n",
    "            temp.remove(v)\n",
    "            sparse[i].append(d[str(temp).strip('[]')])\n",
    "            \n",
    "for i in range(M):\n",
    "    sparse[i].sort()"
   ]
  },
  {
   "cell_type": "markdown",
   "metadata": {},
   "source": [
    "Printing sparse matrix"
   ]
  },
  {
   "cell_type": "code",
   "execution_count": 40,
   "metadata": {
    "collapsed": false
   },
   "outputs": [
    {
     "name": "stdout",
     "output_type": "stream",
     "text": [
      "[[], [], [], [], [], [], [0, 1], [0, 2], [0, 3], [0, 4], [0, 5], [1, 2], [1, 3], [1, 4], [1, 5], [2, 3], [2, 4], [2, 5], [3, 4], [3, 5], [4, 5], [6, 8, 12], [7, 8, 15], [11, 13, 16], [15, 16, 18], [18, 19, 20], [12, 14, 19], [11, 14, 17], [6, 9, 13], [9, 10, 20], [7, 10, 17]]\n",
      "31\n"
     ]
    }
   ],
   "source": [
    "print sparse\n",
    "print M"
   ]
  },
  {
   "cell_type": "markdown",
   "metadata": {},
   "source": [
    "Reducing Matrix"
   ]
  },
  {
   "cell_type": "code",
   "execution_count": 20,
   "metadata": {
    "collapsed": false
   },
   "outputs": [
    {
     "name": "stdout",
     "output_type": "stream",
     "text": [
      "0\n",
      "10000\n",
      "20000\n",
      "30000\n",
      "40000\n",
      "50000\n",
      "60000\n",
      "70000\n",
      "80000\n",
      "90000\n",
      "100000\n",
      "110000\n",
      "120000\n",
      "130000\n",
      "140000\n",
      "150000\n",
      "160000\n",
      "170000\n",
      "180000\n",
      "190000\n",
      "200000\n"
     ]
    },
    {
     "ename": "KeyboardInterrupt",
     "evalue": "",
     "output_type": "error",
     "traceback": [
      "\u001b[1;31m---------------------------------------------------------------------------\u001b[0m",
      "\u001b[1;31mKeyboardInterrupt\u001b[0m                         Traceback (most recent call last)",
      "\u001b[1;32m<ipython-input-20-4fc99dbb5db6>\u001b[0m in \u001b[0;36m<module>\u001b[1;34m()\u001b[0m\n\u001b[0;32m     35\u001b[0m         \u001b[1;32mwhile\u001b[0m \u001b[0mlowcol\u001b[0m \u001b[1;32min\u001b[0m \u001b[0mlowdict\u001b[0m\u001b[1;33m:\u001b[0m \u001b[1;31m#*O(M) in the worst case\u001b[0m\u001b[1;33m\u001b[0m\u001b[0m\n\u001b[0;32m     36\u001b[0m             \u001b[0mind\u001b[0m \u001b[1;33m=\u001b[0m \u001b[0mlowdict\u001b[0m\u001b[1;33m[\u001b[0m\u001b[0mlowcol\u001b[0m\u001b[1;33m]\u001b[0m\u001b[1;33m\u001b[0m\u001b[0m\n\u001b[1;32m---> 37\u001b[1;33m             \u001b[0msparse\u001b[0m\u001b[1;33m[\u001b[0m\u001b[0mj\u001b[0m\u001b[1;33m]\u001b[0m \u001b[1;33m=\u001b[0m \u001b[0mxor\u001b[0m\u001b[1;33m(\u001b[0m\u001b[0msparse\u001b[0m\u001b[1;33m[\u001b[0m\u001b[0mj\u001b[0m\u001b[1;33m]\u001b[0m\u001b[1;33m,\u001b[0m\u001b[0msparse\u001b[0m\u001b[1;33m[\u001b[0m\u001b[0mind\u001b[0m\u001b[1;33m]\u001b[0m\u001b[1;33m)\u001b[0m \u001b[1;31m#*O(M) in the worst case too (depends on the size of the sparse columns)\u001b[0m\u001b[1;33m\u001b[0m\u001b[0m\n\u001b[0m\u001b[0;32m     38\u001b[0m             \u001b[1;32mif\u001b[0m \u001b[0msparse\u001b[0m\u001b[1;33m[\u001b[0m\u001b[0mj\u001b[0m\u001b[1;33m]\u001b[0m\u001b[1;33m:\u001b[0m\u001b[1;33m\u001b[0m\u001b[0m\n\u001b[0;32m     39\u001b[0m                 \u001b[0mlowcol\u001b[0m \u001b[1;33m=\u001b[0m \u001b[0msparse\u001b[0m\u001b[1;33m[\u001b[0m\u001b[0mj\u001b[0m\u001b[1;33m]\u001b[0m\u001b[1;33m[\u001b[0m\u001b[1;33m-\u001b[0m\u001b[1;36m1\u001b[0m\u001b[1;33m]\u001b[0m\u001b[1;33m\u001b[0m\u001b[0m\n",
      "\u001b[1;32m<ipython-input-20-4fc99dbb5db6>\u001b[0m in \u001b[0;36mxor\u001b[1;34m(col1, col2)\u001b[0m\n\u001b[0;32m      8\u001b[0m     \u001b[1;32mwhile\u001b[0m\u001b[1;33m(\u001b[0m\u001b[0mi\u001b[0m\u001b[1;33m<\u001b[0m\u001b[0mn1\u001b[0m \u001b[1;32mand\u001b[0m \u001b[0mj\u001b[0m\u001b[1;33m<\u001b[0m\u001b[0mn2\u001b[0m\u001b[1;33m)\u001b[0m\u001b[1;33m:\u001b[0m\u001b[1;33m\u001b[0m\u001b[0m\n\u001b[0;32m      9\u001b[0m         \u001b[1;32mif\u001b[0m\u001b[1;33m(\u001b[0m\u001b[0mcol1\u001b[0m\u001b[1;33m[\u001b[0m\u001b[0mi\u001b[0m\u001b[1;33m]\u001b[0m\u001b[1;33m<\u001b[0m\u001b[0mcol2\u001b[0m\u001b[1;33m[\u001b[0m\u001b[0mj\u001b[0m\u001b[1;33m]\u001b[0m\u001b[1;33m)\u001b[0m\u001b[1;33m:\u001b[0m\u001b[1;33m\u001b[0m\u001b[0m\n\u001b[1;32m---> 10\u001b[1;33m             \u001b[0mc\u001b[0m\u001b[1;33m.\u001b[0m\u001b[0mappend\u001b[0m\u001b[1;33m(\u001b[0m\u001b[0mcol1\u001b[0m\u001b[1;33m[\u001b[0m\u001b[0mi\u001b[0m\u001b[1;33m]\u001b[0m\u001b[1;33m)\u001b[0m\u001b[1;33m\u001b[0m\u001b[0m\n\u001b[0m\u001b[0;32m     11\u001b[0m             \u001b[0mi\u001b[0m\u001b[1;33m+=\u001b[0m\u001b[1;36m1\u001b[0m\u001b[1;33m\u001b[0m\u001b[0m\n\u001b[0;32m     12\u001b[0m         \u001b[1;32melif\u001b[0m\u001b[1;33m(\u001b[0m\u001b[0mcol1\u001b[0m\u001b[1;33m[\u001b[0m\u001b[0mi\u001b[0m\u001b[1;33m]\u001b[0m\u001b[1;33m>\u001b[0m\u001b[0mcol2\u001b[0m\u001b[1;33m[\u001b[0m\u001b[0mj\u001b[0m\u001b[1;33m]\u001b[0m\u001b[1;33m)\u001b[0m\u001b[1;33m:\u001b[0m\u001b[1;33m\u001b[0m\u001b[0m\n",
      "\u001b[1;31mKeyboardInterrupt\u001b[0m: "
     ]
    }
   ],
   "source": [
    "lowsparse = [float('inf')]*M\n",
    "lowdict = {}\n",
    "\n",
    "def xor(col1, col2):\n",
    "    c = []\n",
    "    i, j = 0, 0\n",
    "    n1, n2 = len(col1), len(col2)\n",
    "    while(i<n1 and j<n2):\n",
    "        if(col1[i]<col2[j]):\n",
    "            c.append(col1[i])\n",
    "            i+=1\n",
    "        elif(col1[i]>col2[j]):\n",
    "            c.append(col2[j])\n",
    "            j+=1\n",
    "        else:\n",
    "            i+=1\n",
    "            j+=1\n",
    "    while i<n1:\n",
    "        c.append(col1[i])\n",
    "        i+=1\n",
    "    while j<n2:\n",
    "        c.append(col2[j])\n",
    "        j+=1\n",
    "    return c\n",
    "\n",
    "for j in range(M): #*O(M)\n",
    "    if j%10000==0:\n",
    "        print j\n",
    "    if sparse[j]: \n",
    "        lowcol = sparse[j][-1]\n",
    "        lowsparse[j] = lowcol\n",
    "        if lowcol not in lowdict:\n",
    "            lowdict[lowcol] = j\n",
    "            continue\n",
    "        while lowcol in lowdict: #*O(M) in the worst case\n",
    "            ind = lowdict[lowcol]\n",
    "            sparse[j] = xor(sparse[j],sparse[ind]) #*O(M) in the worst case too (depends on the size of the sparse columns)\n",
    "            if sparse[j]:\n",
    "                lowcol = sparse[j][-1]\n",
    "                lowsparse[j] = lowcol\n",
    "            else:\n",
    "                lowsparse[j] = float(\"inf\")\n",
    "                break\n",
    "        if sparse[j]:\n",
    "            lowdict[lowcol] = j\n",
    "    else:\n",
    "        lowsparse[j]=float(\"inf\")"
   ]
  },
  {
   "cell_type": "code",
   "execution_count": 41,
   "metadata": {
    "collapsed": false
   },
   "outputs": [
    {
     "name": "stdout",
     "output_type": "stream",
     "text": [
      "0\n"
     ]
    }
   ],
   "source": [
    "lowsparse = [float('inf')]*M\n",
    "lowdict = {}\n",
    "index_with_i_as_low = {}\n",
    "\n",
    "def xor(col1, col2):\n",
    "    c = []\n",
    "    i, j = 0, 0\n",
    "    n1, n2 = len(col1), len(col2)\n",
    "    while(i<n1 and j<n2):\n",
    "        if(col1[i]<col2[j]):\n",
    "            c.append(col1[i])\n",
    "            i+=1\n",
    "        elif(col1[i]>col2[j]):\n",
    "            c.append(col2[j])\n",
    "            j+=1\n",
    "        else:\n",
    "            i+=1\n",
    "            j+=1\n",
    "    while i<n1:\n",
    "        c.append(col1[i])\n",
    "        i+=1\n",
    "    while j<n2:\n",
    "        c.append(col2[j])\n",
    "        j+=1\n",
    "    return c\n",
    "\n",
    "for j in range(M): #*O(M)\n",
    "    if j%10000==0:\n",
    "        print j    \n",
    "    if(len(sparse[j])==0):\n",
    "        lowsparse[j] = float(\"inf\")\n",
    "    while len(sparse[j])>0: \n",
    "        lowcol = sparse[j][-1]\n",
    "        lowsparse[j] = lowcol\n",
    "        # while the lowest element of the column i has already appeared as the last element of a previous column\n",
    "        # so the index is different from -1\n",
    "        if lowcol in index_with_i_as_low:\n",
    "            # if this row is the lowest row in some other column,\n",
    "            # then we must subtract this other column from the current column\n",
    "            ind = index_with_i_as_low[lowcol]\n",
    "            sparse[j] = xor(sparse[j], sparse[ind])\n",
    "            lowsparse[j] = float(\"inf\")\n",
    "        else:\n",
    "            # else, we have just found the lowest element from the column\n",
    "            # and can end the reduction of this column\n",
    "            index_with_i_as_low[lowcol] = j\n",
    "            break\n"
   ]
  },
  {
   "cell_type": "markdown",
   "metadata": {},
   "source": [
    "## Explaning reduction complexity\n",
    "In the code above, there are two nested loops, both of them being executed at most O(M) times. In fact, the first one is an iteration in range(M). The internal one is executed as long as sparse[j] is not empty and a break command is not called. Since the index of the lowest element in sparse[j] is strictly decreasing and it starts with some value smaller than M, this loop cannot be executed more than M times.\n",
    "\n",
    "One can also notice that there are at most O(M) operations inside each iteration of the loop, since all operations but the xor (or subtraction) of columns take constant time, and the xor operation takes O(M) time.\n",
    "\n",
    "Therefore, the total complexity of the algorithm is bounded by O(M*M*M) = O(M^3)"
   ]
  },
  {
   "cell_type": "markdown",
   "metadata": {},
   "source": [
    "Printing reduced matrix"
   ]
  },
  {
   "cell_type": "code",
   "execution_count": 42,
   "metadata": {
    "collapsed": false
   },
   "outputs": [
    {
     "name": "stdout",
     "output_type": "stream",
     "text": [
      "[[], [], [], [], [], [], [0, 1], [0, 2], [0, 3], [0, 4], [0, 5], [], [], [], [], [], [], [], [], [], [], [6, 8, 12], [7, 8, 15], [11, 13, 16], [15, 16, 18], [18, 19, 20], [12, 14, 19], [11, 14, 17], [6, 9, 13], [7, 8, 9, 10, 11, 12, 13, 14], []]\n"
     ]
    }
   ],
   "source": [
    "print sparse"
   ]
  },
  {
   "cell_type": "markdown",
   "metadata": {},
   "source": [
    "Giving final answer"
   ]
  },
  {
   "cell_type": "code",
   "execution_count": 43,
   "metadata": {
    "collapsed": false
   },
   "outputs": [
    {
     "name": "stdout",
     "output_type": "stream",
     "text": [
      "['0 1.0 inf', '0 1.0 2.0', '0 1.0 2.0', '0 1.0 2.0', '0 1.0 2.0', '0 1.0 2.0', '1 2.0 inf', '1 2.0 3.0', '1 2.0 3.0', '1 2.0 3.0', '1 2.0 3.0', '1 2.0 3.0', '1 2.0 3.0', '1 2.0 3.0', '1 2.0 3.0', '1 2.0 3.0', '2 3.0 inf']\n"
     ]
    }
   ],
   "source": [
    "finalanswer = []\n",
    "for j in range(M):\n",
    "    if lowsparse[j] == float('inf'):\n",
    "        if j not in lowsparse:\n",
    "            aux = simplices[j]\n",
    "            finalanswer.append(str(aux.dim)+' '+str(aux.val)+' '+'inf')\n",
    "    else:\n",
    "        aux1 = simplices[lowsparse[j]]\n",
    "        aux2 = simplices[j]\n",
    "        finalanswer.append(str(aux1.dim)+' '+str(aux1.val)+' '+str(aux2.val))\n",
    "print finalanswer"
   ]
  },
  {
   "cell_type": "markdown",
   "metadata": {},
   "source": [
    "Returning as a txt"
   ]
  },
  {
   "cell_type": "code",
   "execution_count": 31,
   "metadata": {
    "collapsed": false
   },
   "outputs": [],
   "source": [
    "def output_codebar(barcodelist,name):\n",
    "    barcodetxt = open(name,\"w\")\n",
    "    for code in barcodelist:\n",
    "        barcodetxt.write(code)\n",
    "        barcodetxt.write(\"\\n\")\n",
    "    return\n",
    "\n",
    "output_codebar(finalanswer,\"output.txt\")"
   ]
  },
  {
   "cell_type": "code",
   "execution_count": null,
   "metadata": {
    "collapsed": true
   },
   "outputs": [],
   "source": []
  }
 ],
 "metadata": {
  "anaconda-cloud": {},
  "kernelspec": {
   "display_name": "Python 2",
   "language": "python",
   "name": "python2"
  },
  "language_info": {
   "codemirror_mode": {
    "name": "ipython",
    "version": 2
   },
   "file_extension": ".py",
   "mimetype": "text/x-python",
   "name": "python",
   "nbconvert_exporter": "python",
   "pygments_lexer": "ipython2",
   "version": "2.7.12"
  }
 },
 "nbformat": 4,
 "nbformat_minor": 0
}
