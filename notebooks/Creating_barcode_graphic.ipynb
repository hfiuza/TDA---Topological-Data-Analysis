{
 "cells": [
  {
   "cell_type": "markdown",
   "metadata": {},
   "source": [
    "## Plotting barcode"
   ]
  },
  {
   "cell_type": "markdown",
   "metadata": {},
   "source": [
    "Getting example barcode"
   ]
  },
  {
   "cell_type": "code",
   "execution_count": 44,
   "metadata": {
    "collapsed": true
   },
   "outputs": [],
   "source": [
    "barcode = ['0 1.0 inf', '0 1.0 2.0', '0 1.0 2.0', '0 3.0 4.0', '1 4.0 inf', '1 5.0 6.0']"
   ]
  },
  {
   "cell_type": "code",
   "execution_count": 90,
   "metadata": {
    "collapsed": false
   },
   "outputs": [],
   "source": [
    "verts = []\n",
    "for item in barcode:\n",
    "    aux = item.split()\n",
    "    vert = float(aux[2])\n",
    "    if vert != float('inf'):\n",
    "        verts.append(vert)\n",
    "\n",
    "for item in barcode:\n",
    "    aux = item.split()\n",
    "    vert = float(aux[1])\n",
    "    verts.append(vert)\n",
    "\n",
    "    \n",
    "maxvert = max(verts)\n",
    "minvert = min(verts)"
   ]
  },
  {
   "cell_type": "code",
   "execution_count": 91,
   "metadata": {
    "collapsed": false
   },
   "outputs": [],
   "source": [
    "dimension = []\n",
    "for item in barcode:\n",
    "    aux = item.split()\n",
    "    dim = float(aux[0])\n",
    "    dimension.append(dim)\n",
    "    \n",
    "alldimensions = list(set(dimension))\n",
    "\n",
    "dimqty = []\n",
    "\n",
    "for dim in alldimensions:\n",
    "    dimqty.append(dimension.count(dim))\n",
    "\n",
    "totaldim = len(alldimensions)\n",
    "\n",
    "yforgraphic = []\n",
    "\n",
    "for dim in alldimensions:\n",
    "    auxnum = totaldim - dim\n",
    "    yforgraphic.append(np.linspace(2*auxnum, 2*(auxnum)-1, num = dimqty[int(dim)]))\n",
    "    \n",
    "iforplot = []\n",
    "for qty in dimqty:\n",
    "    iforplot += range(qty)"
   ]
  },
  {
   "cell_type": "markdown",
   "metadata": {},
   "source": [
    "Plotting barcode"
   ]
  },
  {
   "cell_type": "code",
   "execution_count": 93,
   "metadata": {
    "collapsed": false
   },
   "outputs": [
    {
     "data": {
      "image/png": "[encoded data removed]",
      "text/plain": [
       "<matplotlib.figure.Figure at 0x7e79ef0>"
      ]
     },
     "metadata": {},
     "output_type": "display_data"
    }
   ],
   "source": [
    "import matplotlib.pyplot as plt\n",
    "import numpy as np\n",
    "import numpy.random as rnd\n",
    "\n",
    "M = len(barcode)\n",
    "\n",
    "fig = plt.figure(figsize=(12, 6))\n",
    "\n",
    "t = np.linspace(0.0, 5.0, num=M)\n",
    "\n",
    "hax = fig.add_subplot(122)\n",
    "\n",
    "#####horizontal line\n",
    "for i,item in enumerate(barcode):\n",
    "    auxlist = item.split()\n",
    "    dim = float(auxlist[0])\n",
    "    beg = float(auxlist[1])\n",
    "    end = float(auxlist[2])\n",
    "    if end == float('inf'):\n",
    "        hax.hlines(yforgraphic[int(dim)][iforplot[i]], beg, maxvert, lw=2)\n",
    "        hax.plot(maxvert, yforgraphic[int(dim)][iforplot[i]], '>')\n",
    "    else:\n",
    "        hax.hlines(yforgraphic[int(dim)][iforplot[i]], beg, end, lw=2)\n",
    "\n",
    "hax.set_title('Barcode')\n",
    "axes = plt.gca()\n",
    "axes.set_xlim([minvert-0.1,maxvert+0.1])\n",
    "axes.set_ylim([-0.2,2*totaldim+0.2])\n",
    "\n",
    "plt.show()"
   ]
  },
  {
   "cell_type": "code",
   "execution_count": null,
   "metadata": {
    "collapsed": true
   },
   "outputs": [],
   "source": []
  }
 ],
 "metadata": {
  "anaconda-cloud": {},
  "kernelspec": {
   "display_name": "Python [default]",
   "language": "python",
   "name": "python2"
  },
  "language_info": {
   "codemirror_mode": {
    "name": "ipython",
    "version": 2
   },
   "file_extension": ".py",
   "mimetype": "text/x-python",
   "name": "python",
   "nbconvert_exporter": "python",
   "pygments_lexer": "ipython2",
   "version": "2.7.12"
  }
 },
 "nbformat": 4,
 "nbformat_minor": 1
}
