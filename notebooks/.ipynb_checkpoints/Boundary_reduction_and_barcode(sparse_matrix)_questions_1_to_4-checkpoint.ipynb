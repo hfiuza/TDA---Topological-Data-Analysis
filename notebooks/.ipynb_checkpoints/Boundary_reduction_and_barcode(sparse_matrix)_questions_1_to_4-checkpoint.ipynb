{
 "cells": [
  {
   "cell_type": "markdown",
   "metadata": {},
   "source": [
    "## Boundary matrix, reduction, output barcode (using a sparse matrix) - Questions 1, 2, 3, 4 and 6"
   ]
  },
  {
   "cell_type": "markdown",
   "metadata": {},
   "source": [
    "In this notebook, we implemented the asked algorithm to determine the boundary matrix, reduce it and then generate its barcode, as asked in questions 1, 2, 3, and 4.\n",
    "We also used this notebook to generate the barcodes of the filtrations we computed in question 5."
   ]
  },
  {
   "cell_type": "markdown",
   "metadata": {},
   "source": [
    "Creating simplex class and reading function"
   ]
  },
  {
   "cell_type": "code",
   "execution_count": 76,
   "metadata": {
    "collapsed": false
   },
   "outputs": [],
   "source": [
    "import numpy as np\n",
    "\n",
    "class simplex:\n",
    "    def __init__(self, line):\n",
    "        self.dim, self.val, self.vert = self.parse_line(line)\n",
    "    \n",
    "    def parse_line(self, line):\n",
    "        splited_line = line.split()\n",
    "        val = float(splited_line[0])\n",
    "        dim = int(splited_line[1])\n",
    "        vert = [int(x) for x in splited_line[2:]]\n",
    "        assert(len(vert)==dim+1)\n",
    "        return dim, val, vert\n",
    "\n",
    "def read_filtration(name):\n",
    "    simplices = []\n",
    "    with open(name, \"r\") as ins:\n",
    "        for line in ins:\n",
    "            simplices.append(simplex(line))\n",
    "    return simplices"
   ]
  },
  {
   "cell_type": "markdown",
   "metadata": {},
   "source": [
    "Reading the example filtration"
   ]
  },
  {
   "cell_type": "code",
   "execution_count": 77,
   "metadata": {
    "collapsed": false
   },
   "outputs": [],
   "source": [
    "simplices = read_filtration('Creating_filtrations/filtrationmoebiusstrip.txt')"
   ]
  },
  {
   "cell_type": "markdown",
   "metadata": {},
   "source": [
    "Grouping by time"
   ]
  },
  {
   "cell_type": "code",
   "execution_count": 78,
   "metadata": {
    "collapsed": true
   },
   "outputs": [],
   "source": [
    "simplices.sort(key=lambda x: x.val)"
   ]
  },
  {
   "cell_type": "markdown",
   "metadata": {},
   "source": [
    "Sorting the vertices"
   ]
  },
  {
   "cell_type": "code",
   "execution_count": 79,
   "metadata": {
    "collapsed": false
   },
   "outputs": [],
   "source": [
    "for s in simplices:\n",
    "    s.vert.sort()"
   ]
  },
  {
   "cell_type": "markdown",
   "metadata": {},
   "source": [
    "Creating dictionary for matrix creation"
   ]
  },
  {
   "cell_type": "code",
   "execution_count": 80,
   "metadata": {
    "collapsed": false
   },
   "outputs": [],
   "source": [
    "simplices_str =  [str(s.vert).strip('[]') for s in simplices]\n",
    "\n",
    "d = {}\n",
    "for i, s in enumerate(simplices_str):\n",
    "    d[s] = i"
   ]
  },
  {
   "cell_type": "markdown",
   "metadata": {},
   "source": [
    "Creating sparse matrix"
   ]
  },
  {
   "cell_type": "code",
   "execution_count": 81,
   "metadata": {
    "collapsed": false
   },
   "outputs": [],
   "source": [
    "M = len(simplices)\n",
    "\n",
    "sparse = [[] for i in range(M)]\n",
    "\n",
    "for i, s in enumerate(simplices):\n",
    "    if s.dim>0:\n",
    "        vs = list(s.vert)\n",
    "        for v in vs:\n",
    "            temp = list(vs)\n",
    "            temp.remove(v)\n",
    "            sparse[i].append(d[str(temp).strip('[]')])\n",
    "            \n",
    "for i in range(M):\n",
    "    sparse[i] = np.unique(sparse[i]).tolist()"
   ]
  },
  {
   "cell_type": "markdown",
   "metadata": {},
   "source": [
    "Printing sparse matrix"
   ]
  },
  {
   "cell_type": "code",
   "execution_count": 82,
   "metadata": {
    "collapsed": false
   },
   "outputs": [
    {
     "name": "stdout",
     "output_type": "stream",
     "text": [
      "[[], [], [], [], [], [], [0, 1], [0, 2], [1, 2], [2, 4], [3, 4], [2, 3], [4, 5], [3, 5], [1, 3], [1, 5], [0, 5], [1, 4], [6, 7, 8], [8, 9, 17], [9, 10, 11], [10, 12, 13], [13, 14, 15], [6, 15, 16]]\n",
      "24\n"
     ]
    }
   ],
   "source": [
    "print sparse\n",
    "print M"
   ]
  },
  {
   "cell_type": "markdown",
   "metadata": {},
   "source": [
    "Reducing Matrix"
   ]
  },
  {
   "cell_type": "code",
   "execution_count": 83,
   "metadata": {
    "collapsed": false
   },
   "outputs": [
    {
     "name": "stdout",
     "output_type": "stream",
     "text": [
      "0\n"
     ]
    }
   ],
   "source": [
    "lowsparse = [float('inf')]*M\n",
    "lowdict = {}\n",
    "index_with_i_as_low = {}\n",
    "\n",
    "def xor(col1, col2):\n",
    "    c = []\n",
    "    i, j = 0, 0\n",
    "    n1, n2 = len(col1), len(col2)\n",
    "    while(i<n1 and j<n2):\n",
    "        if(col1[i]<col2[j]):\n",
    "            c.append(col1[i])\n",
    "            i+=1\n",
    "        elif(col1[i]>col2[j]):\n",
    "            c.append(col2[j])\n",
    "            j+=1\n",
    "        else:\n",
    "            i+=1\n",
    "            j+=1\n",
    "    while i<n1:\n",
    "        c.append(col1[i])\n",
    "        i+=1\n",
    "    while j<n2:\n",
    "        c.append(col2[j])\n",
    "        j+=1\n",
    "    return c\n",
    "\n",
    "for j in range(M): #*O(M)\n",
    "    if j%10000==0:\n",
    "        print j    \n",
    "    if(len(sparse[j])==0):\n",
    "        lowsparse[j] = float(\"inf\")\n",
    "    while len(sparse[j])>0: \n",
    "        lowcol = sparse[j][-1]\n",
    "        lowsparse[j] = lowcol\n",
    "        # while the lowest element of the column i has already appeared as the last element of a previous column\n",
    "        # so the index is different from -1\n",
    "        if lowcol in index_with_i_as_low:\n",
    "            # if this row is the lowest row in some other column,\n",
    "            # then we must subtract this other column from the current column\n",
    "            ind = index_with_i_as_low[lowcol]\n",
    "            sparse[j] = xor(sparse[j], sparse[ind])\n",
    "            lowsparse[j] = float(\"inf\")\n",
    "        else:\n",
    "            # else, we have just found the lowest element from the column\n",
    "            # and can end the reduction of this column\n",
    "            index_with_i_as_low[lowcol] = j\n",
    "            break\n"
   ]
  },
  {
   "cell_type": "markdown",
   "metadata": {},
   "source": [
    "## Explaning reduction complexity\n",
    "In the code above, there are two nested loops, both of them being executed at most O(M) times. In fact, the first one is an iteration in range(M). The internal one is executed as long as sparse[j] is not empty and a break command is not called. Since the index of the lowest element in sparse[j] is strictly decreasing and it starts with some value smaller than M, this loop cannot be executed more than M times.\n",
    "\n",
    "One can also notice that there are at most O(M) operations inside each iteration of the loop, since all operations but the xor (or subtraction) of columns take constant time, and the xor operation takes O(M) time.\n",
    "\n",
    "Therefore, the total complexity of the algorithm is bounded by O(M*M*M) = O(M^3)"
   ]
  },
  {
   "cell_type": "markdown",
   "metadata": {},
   "source": [
    "Printing reduced matrix"
   ]
  },
  {
   "cell_type": "code",
   "execution_count": 84,
   "metadata": {
    "collapsed": false
   },
   "outputs": [
    {
     "name": "stdout",
     "output_type": "stream",
     "text": [
      "24\n"
     ]
    }
   ],
   "source": [
    "print len(sparse)"
   ]
  },
  {
   "cell_type": "markdown",
   "metadata": {},
   "source": [
    "Giving final answer"
   ]
  },
  {
   "cell_type": "code",
   "execution_count": 85,
   "metadata": {
    "collapsed": false
   },
   "outputs": [],
   "source": [
    "finalanswer = []\n",
    "for j in range(M):\n",
    "    if lowsparse[j] == float('inf'):\n",
    "        if j not in lowsparse:\n",
    "            aux = simplices[j]\n",
    "            finalanswer.append(str(aux.dim)+' '+str(aux.val)+' '+'inf')\n",
    "    else:\n",
    "        aux1 = simplices[lowsparse[j]]\n",
    "        aux2 = simplices[j]\n",
    "        finalanswer.append(str(aux1.dim)+' '+str(aux1.val)+' '+str(aux2.val))\n",
    "#print finalanswer"
   ]
  },
  {
   "cell_type": "markdown",
   "metadata": {},
   "source": [
    "Returning as a txt"
   ]
  },
  {
   "cell_type": "code",
   "execution_count": 87,
   "metadata": {
    "collapsed": false
   },
   "outputs": [],
   "source": [
    "def output_codebar(barcodelist,name):\n",
    "    barcodetxt = open(name,\"w\")\n",
    "    for code in barcodelist:\n",
    "        barcodetxt.write(code)\n",
    "        barcodetxt.write(\"\\n\")\n",
    "    return\n",
    "\n",
    "output_codebar(finalanswer,\"Barcodes/\"+\"moebiusstrip.out\")"
   ]
  },
  {
   "cell_type": "code",
   "execution_count": null,
   "metadata": {
    "collapsed": true
   },
   "outputs": [],
   "source": []
  },
  {
   "cell_type": "code",
   "execution_count": null,
   "metadata": {
    "collapsed": true
   },
   "outputs": [],
   "source": []
  }
 ],
 "metadata": {
  "anaconda-cloud": {},
  "kernelspec": {
   "display_name": "Python 2",
   "language": "python",
   "name": "python2"
  },
  "language_info": {
   "codemirror_mode": {
    "name": "ipython",
    "version": 2
   },
   "file_extension": ".py",
   "mimetype": "text/x-python",
   "name": "python",
   "nbconvert_exporter": "python",
   "pygments_lexer": "ipython2",
   "version": "2.7.12"
  }
 },
 "nbformat": 4,
 "nbformat_minor": 0
}
