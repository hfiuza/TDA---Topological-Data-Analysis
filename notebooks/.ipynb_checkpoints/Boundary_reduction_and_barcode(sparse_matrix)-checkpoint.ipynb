{
 "cells": [
  {
   "cell_type": "markdown",
   "metadata": {},
   "source": [
    "## Boundary matrix, reduction, output barcode (sparse matrix)"
   ]
  },
  {
   "cell_type": "markdown",
   "metadata": {},
   "source": [
    "Creating simplex class and reading function"
   ]
  },
  {
   "cell_type": "code",
   "execution_count": 88,
   "metadata": {
    "collapsed": false
   },
   "outputs": [],
   "source": [
    "import numpy as np\n",
    "\n",
    "class simplex:\n",
    "    def __init__(self, line):\n",
    "        self.dim, self.val, self.vert = self.parse_line(line)\n",
    "    \n",
    "    def parse_line(self, line):\n",
    "        splited_line = line.split()\n",
    "        val = float(splited_line[0])\n",
    "        dim = int(splited_line[1])\n",
    "        vert = [int(x) for x in splited_line[2:]]\n",
    "        assert(len(vert)==dim+1)\n",
    "        return dim, val, vert\n",
    "\n",
    "def read_filtration(name):\n",
    "    simplices = []\n",
    "    with open(name, \"r\") as ins:\n",
    "        for line in ins:\n",
    "            simplices.append(simplex(line))\n",
    "    return simplices"
   ]
  },
  {
   "cell_type": "markdown",
   "metadata": {},
   "source": [
    "Reading the example filtration"
   ]
  },
  {
   "cell_type": "code",
   "execution_count": 89,
   "metadata": {
    "collapsed": false
   },
   "outputs": [],
   "source": [
    "simplices = read_filtration('filtration.txt')"
   ]
  },
  {
   "cell_type": "markdown",
   "metadata": {},
   "source": [
    "Grouping by time"
   ]
  },
  {
   "cell_type": "code",
   "execution_count": 90,
   "metadata": {
    "collapsed": true
   },
   "outputs": [],
   "source": [
    "simplices.sort(key=lambda x: x.val)"
   ]
  },
  {
   "cell_type": "markdown",
   "metadata": {},
   "source": [
    "Sorting the vertices"
   ]
  },
  {
   "cell_type": "code",
   "execution_count": 91,
   "metadata": {
    "collapsed": false
   },
   "outputs": [],
   "source": [
    "for s in simplices:\n",
    "    s.vert.sort()"
   ]
  },
  {
   "cell_type": "markdown",
   "metadata": {},
   "source": [
    "Creating dictionary for matrix creation"
   ]
  },
  {
   "cell_type": "code",
   "execution_count": 92,
   "metadata": {
    "collapsed": false
   },
   "outputs": [],
   "source": [
    "simplices_str =  [str(s.vert).strip('[]') for s in simplices]\n",
    "\n",
    "d = {}\n",
    "for i, s in enumerate(simplices_str):\n",
    "    d[s] = i"
   ]
  },
  {
   "cell_type": "markdown",
   "metadata": {},
   "source": [
    "Creating dictionary for final output"
   ]
  },
  {
   "cell_type": "code",
   "execution_count": 93,
   "metadata": {
    "collapsed": false
   },
   "outputs": [],
   "source": [
    "sDict = {}\n",
    "for i, s in enumerate(simplices):\n",
    "    sDict[i] = s"
   ]
  },
  {
   "cell_type": "markdown",
   "metadata": {},
   "source": [
    "Creating dense matrix (dá pra melhorar pra calcular direto a sparse matrix, tem que melhorar)"
   ]
  },
  {
   "cell_type": "code",
   "execution_count": 94,
   "metadata": {
    "collapsed": false
   },
   "outputs": [],
   "source": [
    "s_matrix = np.zeros((len(simplices),len(simplices)))\n",
    "\n",
    "for i, s in enumerate(simplices):\n",
    "    if s.dim>0:\n",
    "        vs = list(s.vert)\n",
    "        for v in vs:\n",
    "            temp = list(vs)\n",
    "            temp.remove(v)\n",
    "            #print temp\n",
    "            s_matrix[d[str(temp).strip('[]')]][i] = 1"
   ]
  },
  {
   "cell_type": "markdown",
   "metadata": {},
   "source": [
    "Transforming to sparse"
   ]
  },
  {
   "cell_type": "code",
   "execution_count": 95,
   "metadata": {
    "collapsed": false
   },
   "outputs": [],
   "source": [
    "N = 10\n",
    "\n",
    "def nonnull(vector):\n",
    "    answer = []\n",
    "    for i,val in enumerate(vector):\n",
    "        if val == 1:\n",
    "            answer.append(i)\n",
    "    return answer\n",
    "\n",
    "sparse = [nonnull(s_matrix[:,i]) for i in range(N)]"
   ]
  },
  {
   "cell_type": "markdown",
   "metadata": {},
   "source": [
    "Printing sparse matrix"
   ]
  },
  {
   "cell_type": "code",
   "execution_count": 96,
   "metadata": {
    "collapsed": false
   },
   "outputs": [
    {
     "name": "stdout",
     "output_type": "stream",
     "text": [
      "[[], [], [], [0, 1], [0, 2], [], [1, 5], [2, 5], [1, 2], [6, 7, 8]]\n"
     ]
    }
   ],
   "source": [
    "print sparse"
   ]
  },
  {
   "cell_type": "markdown",
   "metadata": {},
   "source": [
    "Reducing Matrix"
   ]
  },
  {
   "cell_type": "code",
   "execution_count": 97,
   "metadata": {
    "collapsed": false
   },
   "outputs": [],
   "source": [
    "N = M\n",
    "\n",
    "lowsparse = [float('inf')]*N\n",
    "\n",
    "def diffcols(col1,col2): #maybe we can optimise it, I couldn't find a way to do it directly in O(m) without transforming them into vector\n",
    "    aux1 = np.array([0]*N)\n",
    "    aux2 = np.array([0]*N)\n",
    "    for i in range(len(col1)):\n",
    "        aux1[col1[i]] = 1\n",
    "    for i in range(len(col2)):\n",
    "        aux2[col2[i]] = 1\n",
    "    answer  = np.logical_xor(aux1,aux2).astype(int)\n",
    "    answer = nonnull(answer)\n",
    "    return answer\n",
    "    \n",
    "for j in range(N):\n",
    "    if sparse[j]:\n",
    "        lowcol = sparse[j][-1]\n",
    "        lowsparse[j] = lowcol\n",
    "        while lowcol in lowsparse[:j]:\n",
    "            ind = lowsparse.index(lowcol)\n",
    "            sparse[j] = diffcols(sparse[j],sparse[ind])\n",
    "            if sparse[j]:\n",
    "                lowcol = sparse[j][-1]\n",
    "                lowsparse[j] = lowcol\n",
    "            else:\n",
    "                break\n",
    "            "
   ]
  },
  {
   "cell_type": "markdown",
   "metadata": {},
   "source": [
    "Printing reduced matrix"
   ]
  },
  {
   "cell_type": "code",
   "execution_count": 98,
   "metadata": {
    "collapsed": false
   },
   "outputs": [
    {
     "name": "stdout",
     "output_type": "stream",
     "text": [
      "[[], [], [], [0, 1], [0, 2], [], [1, 5], [], [], [6, 7, 8]]\n"
     ]
    }
   ],
   "source": [
    "print sparse"
   ]
  },
  {
   "cell_type": "markdown",
   "metadata": {},
   "source": [
    "Giving final answer"
   ]
  },
  {
   "cell_type": "code",
   "execution_count": 99,
   "metadata": {
    "collapsed": false
   },
   "outputs": [
    {
     "name": "stdout",
     "output_type": "stream",
     "text": [
      "['0 1.0 inf', '0 1.0 2.0', '0 1.0 2.0', '0 3.0 4.0', '0 1.0 4.0', '0 1.0 5.0', '1 5.0 6.0']\n"
     ]
    }
   ],
   "source": [
    "finalanswer = []\n",
    "for j in range(N):\n",
    "    if lowsparse[j] == float('inf'):\n",
    "        if j not in lowsparse:\n",
    "            aux = sDict[j]\n",
    "            finalanswer.append(str(aux.dim)+' '+str(aux.val)+' '+'inf')\n",
    "    else:\n",
    "        aux1 = sDict[lowsparse[j]]\n",
    "        aux2 = sDict[j]\n",
    "        finalanswer.append(str(aux1.dim)+' '+str(aux1.val)+' '+str(aux2.val))\n",
    "print finalanswer"
   ]
  }
 ],
 "metadata": {
  "anaconda-cloud": {},
  "kernelspec": {
   "display_name": "Python [default]",
   "language": "python",
   "name": "python2"
  },
  "language_info": {
   "codemirror_mode": {
    "name": "ipython",
    "version": 2
   },
   "file_extension": ".py",
   "mimetype": "text/x-python",
   "name": "python",
   "nbconvert_exporter": "python",
   "pygments_lexer": "ipython2",
   "version": "2.7.12"
  }
 },
 "nbformat": 4,
 "nbformat_minor": 0
}
