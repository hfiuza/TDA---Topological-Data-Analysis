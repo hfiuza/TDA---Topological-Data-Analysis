{
 "cells": [
  {
   "cell_type": "markdown",
   "metadata": {},
   "source": [
    "## Boundary matrix, reduction, output barcode (sparse matrix)"
   ]
  },
  {
   "cell_type": "markdown",
   "metadata": {},
   "source": [
    "Creating simplex class and reading function"
   ]
  },
  {
   "cell_type": "code",
   "execution_count": 28,
   "metadata": {
    "collapsed": false
   },
   "outputs": [],
   "source": [
    "import numpy as np\n",
    "\n",
    "class simplex:\n",
    "    def __init__(self, line):\n",
    "        self.dim, self.val, self.vert = self.parse_line(line)\n",
    "    \n",
    "    def parse_line(self, line):\n",
    "        splited_line = line.split()\n",
    "        val = float(splited_line[0])\n",
    "        dim = int(splited_line[1])\n",
    "        vert = [int(x) for x in splited_line[2:]]\n",
    "        assert(len(vert)==dim+1)\n",
    "        return dim, val, vert\n",
    "\n",
    "def read_filtration(name):\n",
    "    simplices = []\n",
    "    with open(name, \"r\") as ins:\n",
    "        for line in ins:\n",
    "            simplices.append(simplex(line))\n",
    "    return simplices"
   ]
  },
  {
   "cell_type": "markdown",
   "metadata": {},
   "source": [
    "Reading the example filtration"
   ]
  },
  {
   "cell_type": "code",
   "execution_count": 29,
   "metadata": {
    "collapsed": false
   },
   "outputs": [],
   "source": [
    "simplices = read_filtration('filtration.txt')"
   ]
  },
  {
   "cell_type": "markdown",
   "metadata": {},
   "source": [
    "Grouping by time"
   ]
  },
  {
   "cell_type": "code",
   "execution_count": 30,
   "metadata": {
    "collapsed": true
   },
   "outputs": [],
   "source": [
    "simplices.sort(key=lambda x: x.val)"
   ]
  },
  {
   "cell_type": "markdown",
   "metadata": {},
   "source": [
    "Sorting the vertices"
   ]
  },
  {
   "cell_type": "code",
   "execution_count": 31,
   "metadata": {
    "collapsed": false
   },
   "outputs": [],
   "source": [
    "for s in simplices:\n",
    "    s.vert.sort()"
   ]
  },
  {
   "cell_type": "code",
   "execution_count": 32,
   "metadata": {
    "collapsed": false
   },
   "outputs": [
    {
     "name": "stdout",
     "output_type": "stream",
     "text": [
      "0 1.0 [2]\n",
      "0 1.0 [4]\n",
      "0 1.0 [1]\n",
      "1 2.0 [2, 4]\n",
      "1 2.0 [1, 2]\n",
      "0 3.0 [7]\n",
      "1 4.0 [4, 7]\n",
      "1 4.0 [1, 7]\n",
      "1 5.0 [1, 4]\n",
      "2 6.0 [1, 4, 7]\n"
     ]
    }
   ],
   "source": [
    "for s in simplices:\n",
    "    print s.dim, s.val, s.vert"
   ]
  },
  {
   "cell_type": "markdown",
   "metadata": {},
   "source": [
    "Creating dictionary for matrix creation"
   ]
  },
  {
   "cell_type": "code",
   "execution_count": 33,
   "metadata": {
    "collapsed": false
   },
   "outputs": [],
   "source": [
    "simplices_str =  [str(s.vert).strip('[]') for s in simplices]\n",
    "\n",
    "d = {}\n",
    "for i, s in enumerate(simplices_str):\n",
    "    d[s] = i"
   ]
  },
  {
   "cell_type": "markdown",
   "metadata": {},
   "source": [
    "Creating dictionary for final output"
   ]
  },
  {
   "cell_type": "code",
   "execution_count": 34,
   "metadata": {
    "collapsed": false
   },
   "outputs": [],
   "source": [
    "sDict = {}\n",
    "for i, s in enumerate(simplices):\n",
    "    sDict[i] = s"
   ]
  },
  {
   "cell_type": "markdown",
   "metadata": {},
   "source": [
    "Creating sparse matrix"
   ]
  },
  {
   "cell_type": "code",
   "execution_count": 35,
   "metadata": {
    "collapsed": false
   },
   "outputs": [],
   "source": [
    "M = len(simplices)\n",
    "\n",
    "sparse = [[] for i in range(M)]\n",
    "\n",
    "for i, s in enumerate(simplices):\n",
    "    if s.dim>0:\n",
    "        vs = list(s.vert)\n",
    "        for v in vs:\n",
    "            temp = list(vs)\n",
    "            temp.remove(v)\n",
    "            sparse[i].append(d[str(temp).strip('[]')])\n",
    "            \n",
    "for i in range(M):\n",
    "    sparse[i].sort()"
   ]
  },
  {
   "cell_type": "markdown",
   "metadata": {},
   "source": [
    "Printing sparse matrix"
   ]
  },
  {
   "cell_type": "code",
   "execution_count": 36,
   "metadata": {
    "collapsed": false
   },
   "outputs": [
    {
     "name": "stdout",
     "output_type": "stream",
     "text": [
      "[[], [], [], [0, 1], [0, 2], [], [1, 5], [2, 5], [1, 2], [6, 7, 8]]\n"
     ]
    }
   ],
   "source": [
    "print sparse"
   ]
  },
  {
   "cell_type": "markdown",
   "metadata": {},
   "source": [
    "Reducing Matrix"
   ]
  },
  {
   "cell_type": "code",
   "execution_count": 37,
   "metadata": {
    "collapsed": false
   },
   "outputs": [],
   "source": [
    "lowsparse = [float('inf')]*M\n",
    "\n",
    "def xor(col1, col2):\n",
    "    c = []\n",
    "    i, j = 0, 0\n",
    "    n1, n2 = len(col1), len(col2)\n",
    "    while(i<n1 and j<n2):\n",
    "        if(col1[i]<col2[j]):\n",
    "            c.append(col1[i])\n",
    "            i+=1\n",
    "        elif(col1[i]>col2[j]):\n",
    "            c.append(col2[j])\n",
    "            j+=1\n",
    "        else:\n",
    "            i+=1\n",
    "            j+=1\n",
    "    while i<n1:\n",
    "        c.append(col1[i])\n",
    "        i+=1\n",
    "    while j<n2:\n",
    "        c.append(col2[i])\n",
    "        j+=1\n",
    "    return c\n",
    "    \n",
    "for j in range(M):\n",
    "    if sparse[j]:\n",
    "        lowcol = sparse[j][-1]\n",
    "        lowsparse[j] = lowcol\n",
    "        while lowcol in lowsparse[:j]:\n",
    "            ind = lowsparse.index(lowcol)\n",
    "            sparse[j] = xor(sparse[j],sparse[ind])\n",
    "            if sparse[j]:\n",
    "                lowcol = sparse[j][-1]\n",
    "                lowsparse[j] = lowcol\n",
    "            else:\n",
    "                lowsparse[j] = float(\"inf\")\n",
    "                break\n",
    "            "
   ]
  },
  {
   "cell_type": "markdown",
   "metadata": {},
   "source": [
    "Printing reduced matrix"
   ]
  },
  {
   "cell_type": "code",
   "execution_count": 38,
   "metadata": {
    "collapsed": false
   },
   "outputs": [
    {
     "name": "stdout",
     "output_type": "stream",
     "text": [
      "[[], [], [], [0, 1], [0, 2], [], [1, 5], [], [], [6, 7, 8]]\n"
     ]
    }
   ],
   "source": [
    "print sparse"
   ]
  },
  {
   "cell_type": "markdown",
   "metadata": {},
   "source": [
    "Giving final answer"
   ]
  },
  {
   "cell_type": "code",
   "execution_count": 39,
   "metadata": {
    "collapsed": false
   },
   "outputs": [
    {
     "name": "stdout",
     "output_type": "stream",
     "text": [
      "['0 1.0 inf', '0 1.0 2.0', '0 1.0 2.0', '0 3.0 4.0', '1 4.0 inf', '1 5.0 6.0']\n"
     ]
    }
   ],
   "source": [
    "finalanswer = []\n",
    "for j in range(M):\n",
    "    if lowsparse[j] == float('inf'):\n",
    "        if j not in lowsparse:\n",
    "            aux = sDict[j]\n",
    "            finalanswer.append(str(aux.dim)+' '+str(aux.val)+' '+'inf')\n",
    "    else:\n",
    "        aux1 = sDict[lowsparse[j]]\n",
    "        aux2 = sDict[j]\n",
    "        finalanswer.append(str(aux1.dim)+' '+str(aux1.val)+' '+str(aux2.val))\n",
    "print finalanswer"
   ]
  },
  {
   "cell_type": "markdown",
   "metadata": {},
   "source": [
    "Returning as a txt"
   ]
  },
  {
   "cell_type": "code",
   "execution_count": 40,
   "metadata": {
    "collapsed": false
   },
   "outputs": [],
   "source": [
    "def output_codebar(barcodelist,name):\n",
    "    barcodetxt = open(name,\"w\")\n",
    "    for code in barcodelist:\n",
    "        barcodetxt.write(code)\n",
    "        barcodetxt.write(\"\\n\")\n",
    "    return\n",
    "\n",
    "output_codebar(finalanswer,\"output.txt\")"
   ]
  }
 ],
 "metadata": {
  "anaconda-cloud": {},
  "kernelspec": {
   "display_name": "Python [default]",
   "language": "python",
   "name": "python2"
  },
  "language_info": {
   "codemirror_mode": {
    "name": "ipython",
    "version": 2
   },
   "file_extension": ".py",
   "mimetype": "text/x-python",
   "name": "python",
   "nbconvert_exporter": "python",
   "pygments_lexer": "ipython2",
   "version": "2.7.12"
  }
 },
 "nbformat": 4,
 "nbformat_minor": 0
}
