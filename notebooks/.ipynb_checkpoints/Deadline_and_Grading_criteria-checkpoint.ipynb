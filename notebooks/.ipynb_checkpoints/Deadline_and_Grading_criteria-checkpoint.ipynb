{
 "cells": [
  {
   "cell_type": "markdown",
   "metadata": {},
   "source": [
    "## Grading criteria\n",
    "\n",
    "\n",
    "1 - correct code (on their inputs + manual check) - 10 points\n",
    "\n",
    "2 - optimal running time ( O((m^3)) - 3 points\n",
    "\n",
    "3 - sparse matrix representation - 3 points\n",
    "\n",
    "4 - correct results on classical spaces - (! filtrations must be simplicial) - 3 points\n",
    "    -- Draw our own filtrations and scan them\n",
    "5 - correct interpretation of bar codes (bottom of the TD page) - 2 points\n",
    "\n",
    "6 - clean-nes and tideness of code/explanations - [-2, 2] points"
   ]
  },
  {
   "cell_type": "markdown",
   "metadata": {},
   "source": [
    "## Deadline - 7th February - 11:55 PM"
   ]
  }
 ],
 "metadata": {
  "kernelspec": {
   "display_name": "Python [default]",
   "language": "python",
   "name": "python2"
  },
  "language_info": {
   "codemirror_mode": {
    "name": "ipython",
    "version": 2
   },
   "file_extension": ".py",
   "mimetype": "text/x-python",
   "name": "python",
   "nbconvert_exporter": "python",
   "pygments_lexer": "ipython2",
   "version": "2.7.12"
  }
 },
 "nbformat": 4,
 "nbformat_minor": 1
}
