{
 "cells": [
  {
   "cell_type": "markdown",
   "metadata": {},
   "source": [
    "## Grading criteria\n",
    "\n",
    "\n",
    "1 - correct code (on their inputs + manual check) - 10 points\n",
    "\n",
    "2 - optimal running time ( o((m^3)) - 3 points\n",
    "\n",
    "3 - sparse matrix representation - 3 points\n",
    "\n",
    "4 - correct results on classical spaces - (! filtrations must be simplicial) - 3 points\n",
    "    -- Draw our own filtrations and scan them\n",
    "5 - correct interpretation of bar codes (bottom of the TD page) - 2 points\n",
    "\n",
    "6 - clean-nes and tideness of code/explanations - [-2, 2] points"
   ]
  },
  {
   "cell_type": "markdown",
   "metadata": {},
   "source": [
    "## Deadline - 7th February - 11:55 PM"
   ]
  },
  {
   "cell_type": "code",
   "execution_count": 19,
   "metadata": {
    "collapsed": false
   },
   "outputs": [],
   "source": [
    "class simplex:\n",
    "    def __init__(self, line):\n",
    "        self.dim, self.val, self.vert = self.parse_line(line)\n",
    "    \n",
    "    def parse_line(self, line):\n",
    "        splited_line = line.split()\n",
    "        val = float(splited_line[0])\n",
    "        dim = int(splited_line[1])\n",
    "        vert = [int(x) for x in splited_line[2:]]\n",
    "        assert(len(vert)==dim+1)\n",
    "        return dim, val, vert\n",
    "\n",
    "def read_filtration(name):\n",
    "    simplices = []\n",
    "    with open(name, \"r\") as ins:\n",
    "        for line in ins:\n",
    "            simplices.append(simplex(line))\n",
    "    return simplices"
   ]
  },
  {
   "cell_type": "code",
   "execution_count": 20,
   "metadata": {
    "collapsed": false
   },
   "outputs": [],
   "source": [
    "simplices = read_filtration('filtration.txt')"
   ]
  },
  {
   "cell_type": "code",
   "execution_count": 21,
   "metadata": {
    "collapsed": true
   },
   "outputs": [],
   "source": [
    "simplices.sort(key=lambda x: x.val)"
   ]
  },
  {
   "cell_type": "code",
   "execution_count": 22,
   "metadata": {
    "collapsed": false
   },
   "outputs": [],
   "source": [
    "for s in simplices:\n",
    "    s.vert.sort()"
   ]
  },
  {
   "cell_type": "code",
   "execution_count": 23,
   "metadata": {
    "collapsed": false
   },
   "outputs": [
    {
     "name": "stdout",
     "output_type": "stream",
     "text": [
      "0 1.0 [2]\n",
      "0 1.0 [4]\n",
      "0 1.0 [1]\n",
      "1 2.0 [2, 4]\n",
      "1 2.0 [1, 2]\n",
      "0 3.0 [7]\n",
      "1 4.0 [4, 7]\n",
      "1 4.0 [1, 7]\n",
      "1 5.0 [1, 4]\n",
      "2 6.0 [1, 4, 7]\n"
     ]
    }
   ],
   "source": [
    "for s in simplices:\n",
    "    print s.dim, s.val, s.vert"
   ]
  },
  {
   "cell_type": "code",
   "execution_count": 24,
   "metadata": {
    "collapsed": false
   },
   "outputs": [],
   "source": [
    "simplices_str =  [str(s.vert).strip('[]') for s in simplices]"
   ]
  },
  {
   "cell_type": "code",
   "execution_count": 25,
   "metadata": {
    "collapsed": false
   },
   "outputs": [],
   "source": [
    "d = {}\n",
    "for i, s in enumerate(simplices_str):\n",
    "    d[s] = i"
   ]
  },
  {
   "cell_type": "code",
   "execution_count": 26,
   "metadata": {
    "collapsed": false
   },
   "outputs": [
    {
     "name": "stdout",
     "output_type": "stream",
     "text": [
      "{'1, 2': 4, '4, 7': 6, '1, 7': 7, '1, 4': 8, '1': 2, '2': 0, '4': 1, '7': 5, '2, 4': 3, '1, 4, 7': 9}\n"
     ]
    }
   ],
   "source": [
    "print d"
   ]
  },
  {
   "cell_type": "code",
   "execution_count": 27,
   "metadata": {
    "collapsed": false
   },
   "outputs": [],
   "source": [
    "sDict = {}\n",
    "for i, s in enumerate(simplices):\n",
    "    sDict[i] = s"
   ]
  },
  {
   "cell_type": "code",
   "execution_count": 29,
   "metadata": {
    "collapsed": true
   },
   "outputs": [],
   "source": [
    "import numpy as np"
   ]
  },
  {
   "cell_type": "code",
   "execution_count": 30,
   "metadata": {
    "collapsed": false
   },
   "outputs": [],
   "source": [
    "s_matrix = np.zeros((len(simplices),len(simplices)))\n"
   ]
  },
  {
   "cell_type": "code",
   "execution_count": 31,
   "metadata": {
    "collapsed": false
   },
   "outputs": [],
   "source": [
    "for i, s in enumerate(simplices):\n",
    "    if s.dim>0:\n",
    "        vs = list(s.vert)\n",
    "        for v in vs:\n",
    "            temp = list(vs)\n",
    "            temp.remove(v)\n",
    "            #print temp\n",
    "            s_matrix[d[str(temp).strip('[]')]][i] = 1          \n",
    "        "
   ]
  },
  {
   "cell_type": "code",
   "execution_count": 32,
   "metadata": {
    "collapsed": false
   },
   "outputs": [
    {
     "name": "stdout",
     "output_type": "stream",
     "text": [
      "[[ 0.  0.  0.  1.  1.  0.  0.  0.  0.  0.]\n",
      " [ 0.  0.  0.  1.  0.  0.  1.  0.  1.  0.]\n",
      " [ 0.  0.  0.  0.  1.  0.  0.  1.  1.  0.]\n",
      " [ 0.  0.  0.  0.  0.  0.  0.  0.  0.  0.]\n",
      " [ 0.  0.  0.  0.  0.  0.  0.  0.  0.  0.]\n",
      " [ 0.  0.  0.  0.  0.  0.  1.  1.  0.  0.]\n",
      " [ 0.  0.  0.  0.  0.  0.  0.  0.  0.  1.]\n",
      " [ 0.  0.  0.  0.  0.  0.  0.  0.  0.  1.]\n",
      " [ 0.  0.  0.  0.  0.  0.  0.  0.  0.  1.]\n",
      " [ 0.  0.  0.  0.  0.  0.  0.  0.  0.  0.]]\n"
     ]
    }
   ],
   "source": [
    "print s_matrix"
   ]
  },
  {
   "cell_type": "markdown",
   "metadata": {},
   "source": [
    "Question 2 (Reduction)"
   ]
  },
  {
   "cell_type": "code",
   "execution_count": 42,
   "metadata": {
    "collapsed": false
   },
   "outputs": [],
   "source": [
    "M = len(s_matrix)\n",
    "low = [float('inf')]*M\n",
    "pivots = [False]*M\n",
    "\n",
    "for j in range(M):\n",
    "    for i in range(M):\n",
    "        auxI = M-i-1\n",
    "        if s_matrix[auxI][j]==1:\n",
    "            low[j] = auxI\n",
    "            if auxI not in low[:j]:\n",
    "                pivots[j] = True\n",
    "                break\n",
    "            if auxI in low[:j]:\n",
    "                ind = low.index(auxI)\n",
    "                s_matrix[:,j] = np.logical_xor(s_matrix[:,j],s_matrix[:,ind]).astype(int)\n",
    "                low[j] = float('inf')"
   ]
  },
  {
   "cell_type": "code",
   "execution_count": 43,
   "metadata": {
    "collapsed": false
   },
   "outputs": [
    {
     "name": "stdout",
     "output_type": "stream",
     "text": [
      "[[ 0.  0.  0.  1.  1.  0.  0.  0.  0.  0.]\n",
      " [ 0.  0.  0.  1.  0.  0.  1.  0.  0.  0.]\n",
      " [ 0.  0.  0.  0.  1.  0.  0.  0.  0.  0.]\n",
      " [ 0.  0.  0.  0.  0.  0.  0.  0.  0.  0.]\n",
      " [ 0.  0.  0.  0.  0.  0.  0.  0.  0.  0.]\n",
      " [ 0.  0.  0.  0.  0.  0.  1.  0.  0.  0.]\n",
      " [ 0.  0.  0.  0.  0.  0.  0.  0.  0.  1.]\n",
      " [ 0.  0.  0.  0.  0.  0.  0.  0.  0.  1.]\n",
      " [ 0.  0.  0.  0.  0.  0.  0.  0.  0.  1.]\n",
      " [ 0.  0.  0.  0.  0.  0.  0.  0.  0.  0.]]\n"
     ]
    }
   ],
   "source": [
    "print s_matrix"
   ]
  },
  {
   "cell_type": "code",
   "execution_count": 44,
   "metadata": {
    "collapsed": false
   },
   "outputs": [
    {
     "name": "stdout",
     "output_type": "stream",
     "text": [
      "['0 1.0 inf', '0 1.0 2.0', '0 1.0 2.0', '0 3.0 4.0', '1 4.0 inf', '1 5.0 6.0']\n"
     ]
    }
   ],
   "source": [
    "answer = []\n",
    "for j in range(M):\n",
    "    if low[j] == float('inf'):\n",
    "        if j not in low:\n",
    "            aux = sDict[j]\n",
    "            answer.append(str(aux.dim)+' '+str(aux.val)+' '+'inf')\n",
    "    else:\n",
    "        aux1 = sDict[low[j]]\n",
    "        aux2 = sDict[j]\n",
    "        answer.append(str(aux1.dim)+' '+str(aux1.val)+' '+str(aux2.val))\n",
    "print answer"
   ]
  }
 ],
 "metadata": {
  "anaconda-cloud": {},
  "kernelspec": {
   "display_name": "Python [default]",
   "language": "python",
   "name": "python2"
  },
  "language_info": {
   "codemirror_mode": {
    "name": "ipython",
    "version": 2
   },
   "file_extension": ".py",
   "mimetype": "text/x-python",
   "name": "python",
   "nbconvert_exporter": "python",
   "pygments_lexer": "ipython2",
   "version": "2.7.12"
  }
 },
 "nbformat": 4,
 "nbformat_minor": 0
}
